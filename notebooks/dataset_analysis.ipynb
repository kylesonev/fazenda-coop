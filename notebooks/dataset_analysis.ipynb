{
 "cells": [
  {
   "cell_type": "markdown",
   "metadata": {},
   "source": [
    "## Importing  "
   ]
  },
  {
   "cell_type": "code",
   "execution_count": 32,
   "metadata": {},
   "outputs": [],
   "source": [
    "import matplotlib.pyplot as plt\n",
    "import pandas as pd\n",
    "import seaborn as sns\n",
    "from statsmodels.tsa.seasonal import seasonal_decompose\n"
   ]
  },
  {
   "cell_type": "markdown",
   "metadata": {},
   "source": [
    "Loading dataset"
   ]
  },
  {
   "cell_type": "code",
   "execution_count": 33,
   "metadata": {},
   "outputs": [],
   "source": [
    "df = pd.read_csv(\"../data/production_volume.csv\")\n",
    "# Converting date column to datetime format\n",
    "df[\"date\"] = pd.to_datetime(df[\"date\"], format=\"%b-%Y\")\n",
    "\n",
    "# Creating a list of the products \n",
    "products = df.columns[1:]\n",
    "\n",
    "# Creating a column for \"year\"\n",
    "df[\"year\"] = df[\"date\"].dt.year"
   ]
  },
  {
   "cell_type": "markdown",
   "metadata": {},
   "source": [
    "Visualizing the data structure"
   ]
  },
  {
   "cell_type": "code",
   "execution_count": null,
   "metadata": {},
   "outputs": [],
   "source": [
    "display(df.head(3))"
   ]
  },
  {
   "cell_type": "markdown",
   "metadata": {},
   "source": [
    "Visualizing the Annual Volume"
   ]
  },
  {
   "cell_type": "code",
   "execution_count": null,
   "metadata": {},
   "outputs": [],
   "source": [
    "annual_volume = df.groupby(\"year\")[products].sum()\n",
    "annual_volume.plot(kind=\"bar\", stacked=True, figsize=(16, 8), colormap=\"viridis\")\n",
    "plt.title(\"Annual volume\")\n",
    "plt.xlabel(\"year\")\n",
    "plt.ylabel(\"Total volume\")\n",
    "plt.legend(title=\"Product\")\n",
    "plt.tight_layout()\n",
    "plt.show()"
   ]
  },
  {
   "cell_type": "code",
   "execution_count": 36,
   "metadata": {},
   "outputs": [],
   "source": [
    "df = df.drop(columns=\"year\") # Drops the \"year\" column"
   ]
  },
  {
   "cell_type": "markdown",
   "metadata": {},
   "source": [
    "Visualizing the total volume distribution by products"
   ]
  },
  {
   "cell_type": "code",
   "execution_count": null,
   "metadata": {},
   "outputs": [],
   "source": [
    "units_total = df.iloc[:, 1:].sum()\n",
    "labels = units_total.index.tolist()\n",
    "values = units_total.values.tolist()\n",
    "\n",
    "colors = sns.color_palette(\"pastel\")[0:5]\n",
    "plt.figure(figsize=(16, 8))\n",
    "plt.pie(\n",
    "    values,\n",
    "    labels=labels,\n",
    "    autopct=\"%1.2f%%\",\n",
    "    startangle=90,\n",
    "    colors=colors\n",
    ")\n",
    "plt.title(\"Total Volume (2020 - 2024)\")\n",
    "plt.axis(\"equal\")\n",
    "plt.tight_layout()\n",
    "plt.show()"
   ]
  },
  {
   "cell_type": "markdown",
   "metadata": {},
   "source": [
    "Visualizing products production thoughout the years"
   ]
  },
  {
   "cell_type": "code",
   "execution_count": null,
   "metadata": {},
   "outputs": [],
   "source": [
    "fig, axes = plt.subplots(nrows=2, ncols=3, figsize=(16, 8))\n",
    "axes = axes.flatten()\n",
    "colors = ['#1f77b4', '#ff7f0e', '#2ca02c', '#d62728', '#9467bd', '#8c564b']\n",
    "\n",
    "for i, product in enumerate(products):\n",
    "    ax = axes[i]\n",
    "    sns.lineplot(data=df, x=\"date\", y=product, marker=\"o\", ax=ax, color=colors[i])\n",
    "    ax.set_title(product)\n",
    "    ax.set_ylabel(\"Year\")\n",
    "    ax.set_xlabel(\"Units\")\n",
    "    ax.tick_params(axis=\"x\", rotation=45)\n",
    "    ax.grid(True)\n",
    "\n",
    "plt.tight_layout()\n",
    "plt.show()"
   ]
  },
  {
   "cell_type": "code",
   "execution_count": null,
   "metadata": {},
   "outputs": [],
   "source": [
    "for product in products:\n",
    "    mean = df[product].mean()\n",
    "\n",
    "    plt.figure(figsize=(16, 8))\n",
    "\n",
    "    sns.lineplot(\n",
    "        data=df,\n",
    "        x=\"date\",\n",
    "        y=product,\n",
    "        marker=\"o\",\n",
    "        color=\"gray\",\n",
    "        label=\"Montly Volume\",\n",
    "        alpha=0.6\n",
    "    )\n",
    "\n",
    "    above_avg = df[df[product] > mean]\n",
    "    sns.scatterplot(\n",
    "        data=above_avg,\n",
    "        x=\"date\",\n",
    "        y=product,\n",
    "        color=\"green\",\n",
    "        marker=\"o\",\n",
    "        s=120,\n",
    "        label=f\"Above Average: {len(above_avg)}\"\n",
    "    )\n",
    "\n",
    "    plt.axhline(mean, color=\"blue\", linestyle=\"--\", label=f\"Mean: ({mean:.2f})\")\n",
    "\n",
    "    plt.title(f\"{product.capitalize()} Volume - Months Above Average\")\n",
    "    plt.ylabel(\"Units\")\n",
    "    plt.xlabel(\"Year\")\n",
    "    plt.legend()\n",
    "    plt.grid(True, linestyle=\"--\", alpha=0.6)\n",
    "    plt.tight_layout()\n",
    "    plt.show()"
   ]
  },
  {
   "cell_type": "markdown",
   "metadata": {},
   "source": [
    "Visualizing the very low products correlation "
   ]
  },
  {
   "cell_type": "code",
   "execution_count": null,
   "metadata": {},
   "outputs": [],
   "source": [
    "sns.heatmap(df[products].corr(), annot=True, cmap=\"coolwarm\", center=0)\n",
    "plt.title(\"Products Corrrelation\")"
   ]
  },
  {
   "cell_type": "markdown",
   "metadata": {},
   "source": [
    "Visualizing Outliers"
   ]
  },
  {
   "cell_type": "code",
   "execution_count": null,
   "metadata": {},
   "outputs": [],
   "source": [
    "plt.figure(figsize=(16, 8))\n",
    "sns.boxplot(data=df[products], palette=\"Set2\")\n",
    "plt.title(\"Box Plot\")\n",
    "plt.ylabel(\"Volume\")\n",
    "plt.show()"
   ]
  },
  {
   "cell_type": "markdown",
   "metadata": {},
   "source": [
    "Outliers analysis"
   ]
  },
  {
   "cell_type": "code",
   "execution_count": null,
   "metadata": {},
   "outputs": [],
   "source": [
    "for product in products:\n",
    "    Q1 = df[product].quantile(0.25)\n",
    "    Q3 = df[product].quantile(0.75)\n",
    "    IQR = Q3 - Q1\n",
    "    lower_bound = Q1 - 1.5 * IQR\n",
    "    upper_bound = Q3 + 1.5 * IQR\n",
    "\n",
    "    outliers_mask = (df[product] < lower_bound) | (df[product] > upper_bound)\n",
    "    outliers_df = df[outliers_mask].copy()\n",
    "    non_outliers_df = df[~outliers_mask].copy()\n",
    "\n",
    "    print(f\"\\nOutlier Analysis - Column: {product}\")\n",
    "    print(f\"• 1st Quartile (Q1): {Q1:.2f}\")\n",
    "    print(f\"• 3rd Quartile (Q3): {Q3:.2f}\")\n",
    "    print(f\"• IQR: {IQR:.2f}\")\n",
    "    print(f\"• Lower Bound: {lower_bound:.2f}\")\n",
    "    print(f\"• Upper Bound: {upper_bound:.2f}\")\n",
    "    print(f\"• Outliers Detected: {len(outliers_df)}\")\n",
    "\n",
    "    plt.figure(figsize=(16, 8))\n",
    "\n",
    "    sns.scatterplot(x=non_outliers_df.index, y=non_outliers_df[product], color=\"skyblue\", label=\"Normal\", s=80)\n",
    "    sns.scatterplot(x=outliers_df.index, y=outliers_df[product], color=\"red\", label=\"Outliers\", s=100) \n",
    "    plt.axhline(upper_bound, color=\"red\", linestyle=\"--\")\n",
    "    plt.axhline(lower_bound, color=\"red\", linestyle=\"--\")\n",
    "\n",
    "    plt.title(f\"Distribution of {product.capitalize()} with Outliers Highlighted\")\n",
    "    plt.xlabel(\"Index\")\n",
    "    plt.ylabel(product)\n",
    "    plt.legend()\n",
    "    plt.tight_layout()\n",
    "    plt.show()"
   ]
  },
  {
   "cell_type": "code",
   "execution_count": null,
   "metadata": {},
   "outputs": [],
   "source": [
    "month_names = [\"Jan\", \"Feb\", \"Mar\", \"Apr\", \"May\", \"Jun\", \n",
    "                \"Jul\", \"Aug\", \"Sep\", \"Oct\", \"Nov\", \"Dec\"]\n",
    "\n",
    "for product in products:\n",
    "    fig, ax = plt.subplots(figsize=(16, 8))\n",
    "    pivot = df.groupby([df[\"date\"].dt.year, df[\"date\"].dt.month])[product].mean().unstack()\n",
    "    pivot.columns = month_names\n",
    "    pivot.plot(ax=ax, cmap=\"viridis\", marker=\"o\")\n",
    "\n",
    "    ax.set_title(f\"{product.capitalize()}: Annual Trend & Monthly Seasonality\")\n",
    "    ax.set_xlabel(\"Year\")\n",
    "    plt.legend(title=\"Month\")"
   ]
  },
  {
   "cell_type": "code",
   "execution_count": null,
   "metadata": {},
   "outputs": [],
   "source": [
    "for product in products:\n",
    "    result = seasonal_decompose(df.set_index(\"date\")[product], model=\"additive\", period=12)\n",
    "    result.plot()"
   ]
  },
  {
   "cell_type": "code",
   "execution_count": null,
   "metadata": {},
   "outputs": [],
   "source": [
    "fig, axes = plt.subplots(nrows=2, ncols=3, figsize=(18, 10))\n",
    "axes = axes.flatten()\n",
    "\n",
    "for i, product in enumerate(products):\n",
    "    ax = axes[i]\n",
    "    pivot = df.pivot_table(index=df[\"date\"].dt.month,\n",
    "                           columns=df[\"date\"].dt.year,\n",
    "                           values = product                           \n",
    "                           )\n",
    "    sns.heatmap(pivot, annot=True, fmt=\".0f\", cmap=\"RdYlBu_r\", linewidths=.5, ax=ax)\n",
    "    ax.set_title(f\"{product.capitalize()} Volume: Monthly Patterns by Year\")\n",
    "plt.tight_layout()\n",
    "plt.show()"
   ]
  },
  {
   "cell_type": "code",
   "execution_count": 71,
   "metadata": {},
   "outputs": [],
   "source": [
    "df[\"season\"] = df['date'].dt.month.map({\n",
    "    1: 'Summer', 2: 'Summer', 3: 'Summer',\n",
    "    4: 'Fall', 5: 'Fall', 6: 'Fall',\n",
    "    7: 'Winter', 8: 'Winter', 9: 'Winter',\n",
    "    10: 'Spring', 11: 'Spring', 12: 'Spring'\n",
    "})"
   ]
  },
  {
   "cell_type": "code",
   "execution_count": null,
   "metadata": {},
   "outputs": [],
   "source": [
    "fig, axes = plt.subplots(nrows=2, ncols=3, figsize=(16, 8))\n",
    "axes = axes.flatten()\n",
    "\n",
    "for i, product in enumerate(products):\n",
    "    ax = axes[i]\n",
    "    sns.kdeplot(data=df, x=product, hue=\"season\", fill=True, linewidth=1.5, ax=ax)\n",
    "    ax.set_title(f\"{product.capitalize()} over seasons\")\n",
    "\n",
    "for j in range(len(products), 6):\n",
    "    fig.delaxes(axes[j])\n",
    "\n",
    "plt.tight_layout()\n",
    "plt.show()"
   ]
  },
  {
   "cell_type": "code",
   "execution_count": null,
   "metadata": {},
   "outputs": [],
   "source": [
    "annual_volume = df.groupby(\"season\")[products].sum()\n",
    "\n",
    "annual_volume.plot(kind=\"bar\", stacked=True, figsize=(16, 8), colormap=\"spring\")\n",
    "plt.title(\"Annual Volume\")\n",
    "plt.xlabel(\"Year\")\n",
    "plt.ylabel(\"Volume\")\n",
    "plt.legend(title=\"Product\")\n",
    "plt.tight_layout()\n",
    "plt.show()"
   ]
  }
 ],
 "metadata": {
  "kernelspec": {
   "display_name": "venv",
   "language": "python",
   "name": "python3"
  },
  "language_info": {
   "codemirror_mode": {
    "name": "ipython",
    "version": 3
   },
   "file_extension": ".py",
   "mimetype": "text/x-python",
   "name": "python",
   "nbconvert_exporter": "python",
   "pygments_lexer": "ipython3",
   "version": "3.13.3"
  }
 },
 "nbformat": 4,
 "nbformat_minor": 2
}
