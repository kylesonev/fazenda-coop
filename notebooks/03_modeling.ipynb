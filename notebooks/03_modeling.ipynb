{
 "cells": [
  {
   "cell_type": "code",
   "execution_count": 9,
   "metadata": {},
   "outputs": [],
   "source": [
    "import pandas as pd\n",
    "import joblib\n",
    "from sklearn.ensemble import RandomForestRegressor\n",
    "from xgboost import XGBRegressor\n",
    "from sklearn.model_selection import TimeSeriesSplit, cross_val_score\n",
    "from sklearn.dummy import DummyRegressor\n",
    "from sklearn.metrics import mean_absolute_error as mae\n",
    "from sklearn.model_selection import GridSearchCV\n",
    "import matplotlib.pyplot as plt"
   ]
  },
  {
   "cell_type": "code",
   "execution_count": 2,
   "metadata": {},
   "outputs": [],
   "source": [
    "train = pd.read_parquet('../data/processed/train.parquet')\n",
    "test = pd.read_parquet('../data/processed/test.parquet')\n",
    "\n",
    "scaler = joblib.load('../models/scaler.joblib')\n",
    "\n"
   ]
  },
  {
   "cell_type": "code",
   "execution_count": 3,
   "metadata": {},
   "outputs": [],
   "source": [
    "X_train = train.drop('target', axis=1)\n",
    "X_train = X_train.drop(columns=['date']) \n",
    "X_train = X_train.drop(columns=['season']) \n",
    "y_train = train['target']\n",
    "X_test = test.drop('target', axis=1)\n",
    "X_test = X_test.drop(columns=['date']) \n",
    "X_test = X_test.drop(columns=['season']) \n",
    "y_test = test['target']"
   ]
  },
  {
   "cell_type": "code",
   "execution_count": 4,
   "metadata": {},
   "outputs": [
    {
     "data": {
      "text/html": [
       "<div>\n",
       "<style scoped>\n",
       "    .dataframe tbody tr th:only-of-type {\n",
       "        vertical-align: middle;\n",
       "    }\n",
       "\n",
       "    .dataframe tbody tr th {\n",
       "        vertical-align: top;\n",
       "    }\n",
       "\n",
       "    .dataframe thead th {\n",
       "        text-align: right;\n",
       "    }\n",
       "</style>\n",
       "<table border=\"1\" class=\"dataframe\">\n",
       "  <thead>\n",
       "    <tr style=\"text-align: right;\">\n",
       "      <th></th>\n",
       "      <th>cheese</th>\n",
       "      <th>milk</th>\n",
       "      <th>dulce_leche</th>\n",
       "      <th>eggs</th>\n",
       "      <th>porks</th>\n",
       "      <th>vegetables</th>\n",
       "      <th>cheese_revenue</th>\n",
       "      <th>milk_revenue</th>\n",
       "      <th>dulce_leche_revenue</th>\n",
       "      <th>eggs_revenue</th>\n",
       "      <th>porks_revenue</th>\n",
       "      <th>vegetables_revenue</th>\n",
       "      <th>year</th>\n",
       "      <th>month</th>\n",
       "      <th>week_year</th>\n",
       "      <th>harvest_season</th>\n",
       "      <th>month_sin</th>\n",
       "      <th>month_cos</th>\n",
       "    </tr>\n",
       "  </thead>\n",
       "  <tbody>\n",
       "    <tr>\n",
       "      <th>47</th>\n",
       "      <td>-0.977778</td>\n",
       "      <td>0.310652</td>\n",
       "      <td>0.108108</td>\n",
       "      <td>-0.082192</td>\n",
       "      <td>0.166667</td>\n",
       "      <td>0.000000</td>\n",
       "      <td>660</td>\n",
       "      <td>3303</td>\n",
       "      <td>150</td>\n",
       "      <td>165</td>\n",
       "      <td>1500</td>\n",
       "      <td>70</td>\n",
       "      <td>2023</td>\n",
       "      <td>12</td>\n",
       "      <td>48</td>\n",
       "      <td>0</td>\n",
       "      <td>-2.449294e-16</td>\n",
       "      <td>1.000000e+00</td>\n",
       "    </tr>\n",
       "    <tr>\n",
       "      <th>48</th>\n",
       "      <td>-0.666667</td>\n",
       "      <td>0.415767</td>\n",
       "      <td>0.324324</td>\n",
       "      <td>-0.027397</td>\n",
       "      <td>0.166667</td>\n",
       "      <td>0.139860</td>\n",
       "      <td>800</td>\n",
       "      <td>3555</td>\n",
       "      <td>180</td>\n",
       "      <td>180</td>\n",
       "      <td>1500</td>\n",
       "      <td>80</td>\n",
       "      <td>2024</td>\n",
       "      <td>1</td>\n",
       "      <td>1</td>\n",
       "      <td>0</td>\n",
       "      <td>5.000000e-01</td>\n",
       "      <td>8.660254e-01</td>\n",
       "    </tr>\n",
       "    <tr>\n",
       "      <th>49</th>\n",
       "      <td>-0.444444</td>\n",
       "      <td>0.453308</td>\n",
       "      <td>0.108108</td>\n",
       "      <td>0.027397</td>\n",
       "      <td>0.333333</td>\n",
       "      <td>0.195804</td>\n",
       "      <td>900</td>\n",
       "      <td>3645</td>\n",
       "      <td>150</td>\n",
       "      <td>195</td>\n",
       "      <td>1800</td>\n",
       "      <td>84</td>\n",
       "      <td>2024</td>\n",
       "      <td>2</td>\n",
       "      <td>5</td>\n",
       "      <td>0</td>\n",
       "      <td>8.660254e-01</td>\n",
       "      <td>5.000000e-01</td>\n",
       "    </tr>\n",
       "    <tr>\n",
       "      <th>50</th>\n",
       "      <td>-0.222222</td>\n",
       "      <td>0.490849</td>\n",
       "      <td>0.432432</td>\n",
       "      <td>0.082192</td>\n",
       "      <td>0.333333</td>\n",
       "      <td>0.279720</td>\n",
       "      <td>1000</td>\n",
       "      <td>3735</td>\n",
       "      <td>195</td>\n",
       "      <td>210</td>\n",
       "      <td>1800</td>\n",
       "      <td>90</td>\n",
       "      <td>2024</td>\n",
       "      <td>3</td>\n",
       "      <td>9</td>\n",
       "      <td>1</td>\n",
       "      <td>1.000000e+00</td>\n",
       "      <td>6.123234e-17</td>\n",
       "    </tr>\n",
       "    <tr>\n",
       "      <th>51</th>\n",
       "      <td>-0.311111</td>\n",
       "      <td>0.528390</td>\n",
       "      <td>0.324324</td>\n",
       "      <td>0.191781</td>\n",
       "      <td>0.166667</td>\n",
       "      <td>0.419580</td>\n",
       "      <td>960</td>\n",
       "      <td>3825</td>\n",
       "      <td>180</td>\n",
       "      <td>240</td>\n",
       "      <td>1500</td>\n",
       "      <td>100</td>\n",
       "      <td>2024</td>\n",
       "      <td>4</td>\n",
       "      <td>14</td>\n",
       "      <td>1</td>\n",
       "      <td>8.660254e-01</td>\n",
       "      <td>-5.000000e-01</td>\n",
       "    </tr>\n",
       "  </tbody>\n",
       "</table>\n",
       "</div>"
      ],
      "text/plain": [
       "      cheese      milk  dulce_leche      eggs     porks  vegetables  \\\n",
       "47 -0.977778  0.310652     0.108108 -0.082192  0.166667    0.000000   \n",
       "48 -0.666667  0.415767     0.324324 -0.027397  0.166667    0.139860   \n",
       "49 -0.444444  0.453308     0.108108  0.027397  0.333333    0.195804   \n",
       "50 -0.222222  0.490849     0.432432  0.082192  0.333333    0.279720   \n",
       "51 -0.311111  0.528390     0.324324  0.191781  0.166667    0.419580   \n",
       "\n",
       "    cheese_revenue  milk_revenue  dulce_leche_revenue  eggs_revenue  \\\n",
       "47             660          3303                  150           165   \n",
       "48             800          3555                  180           180   \n",
       "49             900          3645                  150           195   \n",
       "50            1000          3735                  195           210   \n",
       "51             960          3825                  180           240   \n",
       "\n",
       "    porks_revenue  vegetables_revenue  year  month  week_year  harvest_season  \\\n",
       "47           1500                  70  2023     12         48               0   \n",
       "48           1500                  80  2024      1          1               0   \n",
       "49           1800                  84  2024      2          5               0   \n",
       "50           1800                  90  2024      3          9               1   \n",
       "51           1500                 100  2024      4         14               1   \n",
       "\n",
       "       month_sin     month_cos  \n",
       "47 -2.449294e-16  1.000000e+00  \n",
       "48  5.000000e-01  8.660254e-01  \n",
       "49  8.660254e-01  5.000000e-01  \n",
       "50  1.000000e+00  6.123234e-17  \n",
       "51  8.660254e-01 -5.000000e-01  "
      ]
     },
     "execution_count": 4,
     "metadata": {},
     "output_type": "execute_result"
    }
   ],
   "source": [
    "X_test.head()"
   ]
  },
  {
   "cell_type": "code",
   "execution_count": 5,
   "metadata": {},
   "outputs": [
    {
     "name": "stdout",
     "output_type": "stream",
     "text": [
      "MAE Baseline: 0.47\n"
     ]
    }
   ],
   "source": [
    "baseline = DummyRegressor(strategy='mean')\n",
    "baseline.fit(X_train, y_train)\n",
    "print(f\"MAE Baseline: {mae(y_test, baseline.predict(X_test)):.2f}\")"
   ]
  },
  {
   "cell_type": "code",
   "execution_count": 6,
   "metadata": {},
   "outputs": [
    {
     "name": "stdout",
     "output_type": "stream",
     "text": [
      "RF MAE Médio: 0.75\n"
     ]
    }
   ],
   "source": [
    "X_train = X_train.drop(columns=['date']) if 'date' in X_train.columns else X_train\n",
    "\n",
    "# Random Forest\n",
    "rf = RandomForestRegressor(n_estimators=100, random_state=42)\n",
    "rf_scores = cross_val_score(rf, X_train, y_train,\n",
    "                          cv=TimeSeriesSplit(n_splits=5),\n",
    "                          scoring='neg_mean_absolute_error')\n",
    "print(f\"RF MAE Médio: {-rf_scores.mean():.2f}\")"
   ]
  },
  {
   "cell_type": "code",
   "execution_count": 7,
   "metadata": {},
   "outputs": [
    {
     "name": "stdout",
     "output_type": "stream",
     "text": [
      "Melhores parâmetros: {'max_depth': 5, 'n_estimators': 100}\n"
     ]
    }
   ],
   "source": [
    "param_grid = {\n",
    "    'n_estimators': [100, 200],\n",
    "    'max_depth': [3, 5]\n",
    "}\n",
    "\n",
    "grid = GridSearchCV(RandomForestRegressor(),\n",
    "                   param_grid,\n",
    "                   cv=TimeSeriesSplit(n_splits=3),\n",
    "                   scoring='neg_mean_absolute_error')\n",
    "grid.fit(X_train, y_train)\n",
    "\n",
    "print(f\"Melhores parâmetros: {grid.best_params_}\")"
   ]
  },
  {
   "cell_type": "code",
   "execution_count": null,
   "metadata": {},
   "outputs": [
    {
     "data": {
      "image/png": "[encoded data removed]",
      "text/plain": [
       "<Figure size 640x480 with 1 Axes>"
      ]
     },
     "metadata": {},
     "output_type": "display_data"
    }
   ],
   "source": [
    "# Feature Importance\n",
    "pd.Series(grid.best_estimator_.feature_importances_,\n",
    "          index=X_train.columns).sort_values().plot.barh()\n",
    "plt.title('Importância das Features');\n",
    "\n",
    "# Predições vs Real\n",
    "plt.scatter(y_test, grid.predict(X_test))\n",
    "plt.plot([y_test.min(), y_test.max()], \n",
    "         [y_test.min(), y_test.max()], 'r--')\n",
    "plt.xlabel('Real')\n",
    "plt.ylabel('Predito')"
   ]
  }
 ],
 "metadata": {
  "kernelspec": {
   "display_name": "venv",
   "language": "python",
   "name": "python3"
  },
  "language_info": {
   "codemirror_mode": {
    "name": "ipython",
    "version": 3
   },
   "file_extension": ".py",
   "mimetype": "text/x-python",
   "name": "python",
   "nbconvert_exporter": "python",
   "pygments_lexer": "ipython3",
   "version": "3.13.3"
  }
 },
 "nbformat": 4,
 "nbformat_minor": 2
}
