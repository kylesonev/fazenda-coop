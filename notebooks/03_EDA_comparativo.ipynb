{
 "cells": [
  {
   "cell_type": "code",
   "execution_count": 2,
   "metadata": {},
   "outputs": [],
   "source": [
    "import pandas as pd\n",
    "import numpy as np\n",
    "import matplotlib.pyplot as plt\n",
    "import seaborn as sns\n",
    "from statsmodels.tsa.seasonal import STL\n",
    "from statsmodels.tsa.arima.model import ARIMA\n",
    "from statsmodels.tsa.statespace.sarimax import SARIMAX"
   ]
  },
  {
   "cell_type": "code",
   "execution_count": 3,
   "metadata": {},
   "outputs": [],
   "source": [
    "df1 = pd.read_csv('../data/valor.csv')  # Valor\n",
    "df2 = pd.read_csv('../data/quantidade.csv')     # Quantidade"
   ]
  },
  {
   "cell_type": "code",
   "execution_count": null,
   "metadata": {},
   "outputs": [],
   "source": [
    "print(df1.describe())\n",
    "\n",
    "plt.figure(figsize=(15, 8))\n",
    "for col in df1.columns[2:]:\n",
    "    plt.plot(df1['data'], df1[col], label=col)\n",
    "plt.legend()\n",
    "plt.xticks(rotation=45)\n",
    "plt.show()"
   ]
  },
  {
   "cell_type": "code",
   "execution_count": null,
   "metadata": {},
   "outputs": [],
   "source": [
    "print(df2.describe())\n",
    "\n",
    "plt.figure(figsize=(15, 8))\n",
    "for col in df2.columns[2:]:\n",
    "    plt.plot(df2['data'], df2[col], label=col)\n",
    "plt.legend()\n",
    "plt.xticks(rotation=45)\n",
    "plt.show()"
   ]
  },
  {
   "cell_type": "code",
   "execution_count": null,
   "metadata": {},
   "outputs": [],
   "source": [
    "serie_leite = df1['leite'].dropna()\n",
    "\n",
    "modelo = SARIMAX(serie_leite, \n",
    "                order=(1,1,0),\n",
    "                enforce_stationarity=False,\n",
    "                enforce_invertibility=False)\n",
    "resultado = modelo.fit(disp=False)\n",
    "\n",
    "previsao = resultado.get_forecast(steps=12)\n",
    "previsao_df = previsao.conf_int()\n",
    "previsao_df['previsao'] = previsao.predicted_mean.clip(lower=0)\n",
    "previsao_df.iloc[:,0] = previsao_df.iloc[:,0].clip(lower=0)\n",
    "\n",
    "plt.figure(figsize=(10,5))\n",
    "plt.plot(serie_leite, label='Histórico')\n",
    "plt.plot(previsao_df['previsao'], color='red', label='Previsão')\n",
    "plt.fill_between(previsao_df.index,\n",
    "                previsao_df.iloc[:,0],\n",
    "                previsao_df.iloc[:,1],\n",
    "                color='red', alpha=0.1)\n",
    "plt.title('Previsão de Venda de Leite')\n",
    "plt.legend()\n",
    "plt.show()\n"
   ]
  },
  {
   "cell_type": "code",
   "execution_count": null,
   "metadata": {},
   "outputs": [],
   "source": [
    "serie_suinos = df1['suinos'].dropna()\n",
    "\n",
    "modelo = SARIMAX(serie_suinos, \n",
    "                order=(1,1,0),\n",
    "                enforce_stationarity=False,\n",
    "                enforce_invertibility=False)\n",
    "resultado = modelo.fit(disp=False)\n",
    "\n",
    "previsao = resultado.get_forecast(steps=12)\n",
    "previsao_df = previsao.conf_int()\n",
    "previsao_df['previsao'] = previsao.predicted_mean.clip(lower=0)\n",
    "previsao_df.iloc[:,0] = previsao_df.iloc[:,0].clip(lower=0)\n",
    "\n",
    "plt.figure(figsize=(10,5))\n",
    "plt.plot(serie_suinos, label='Histórico')\n",
    "plt.plot(previsao_df['previsao'], color='red', label='Previsão')\n",
    "plt.fill_between(previsao_df.index,\n",
    "                previsao_df.iloc[:,0],\n",
    "                previsao_df.iloc[:,1],\n",
    "                color='red', alpha=0.1)\n",
    "plt.title('Previsão de Venda de Suínos')\n",
    "plt.legend()\n",
    "plt.show()\n"
   ]
  },
  {
   "cell_type": "code",
   "execution_count": null,
   "metadata": {},
   "outputs": [],
   "source": [
    "serie_queijo = df1['queijo'].dropna()\n",
    "\n",
    "modelo = SARIMAX(serie_queijo, \n",
    "                order=(1,1,0),\n",
    "                enforce_stationarity=False,\n",
    "                enforce_invertibility=False)\n",
    "resultado = modelo.fit(disp=False)\n",
    "\n",
    "previsao = resultado.get_forecast(steps=12)\n",
    "previsao_df = previsao.conf_int()\n",
    "previsao_df['previsao'] = previsao.predicted_mean.clip(lower=0)\n",
    "previsao_df.iloc[:,0] = previsao_df.iloc[:,0].clip(lower=0)\n",
    "\n",
    "plt.figure(figsize=(10,5))\n",
    "plt.plot(serie_queijo, label='Histórico')\n",
    "plt.plot(previsao_df['previsao'], color='red', label='Previsão')\n",
    "plt.fill_between(previsao_df.index,\n",
    "                previsao_df.iloc[:,0],\n",
    "                previsao_df.iloc[:,1],\n",
    "                color='red', alpha=0.1)\n",
    "plt.title('Previsão de Venda de Queijos')\n",
    "plt.legend()\n",
    "plt.show()\n"
   ]
  },
  {
   "cell_type": "code",
   "execution_count": null,
   "metadata": {},
   "outputs": [],
   "source": [
    "serie_ovos = df1['ovos'].dropna()\n",
    "\n",
    "modelo = SARIMAX(serie_ovos, \n",
    "                order=(1,1,0),\n",
    "                enforce_stationarity=False,\n",
    "                enforce_invertibility=False)\n",
    "resultado = modelo.fit(disp=False)\n",
    "\n",
    "previsao = resultado.get_forecast(steps=12)\n",
    "previsao_df = previsao.conf_int()\n",
    "previsao_df['previsao'] = previsao.predicted_mean.clip(lower=0)\n",
    "previsao_df.iloc[:,0] = previsao_df.iloc[:,0].clip(lower=0)\n",
    "\n",
    "plt.figure(figsize=(10,5))\n",
    "plt.plot(serie_ovos, label='Histórico')\n",
    "plt.plot(previsao_df['previsao'], color='red', label='Previsão')\n",
    "plt.fill_between(previsao_df.index,\n",
    "                previsao_df.iloc[:,0],\n",
    "                previsao_df.iloc[:,1],\n",
    "                color='red', alpha=0.1)\n",
    "plt.title('Previsão de Venda de Ovos')\n",
    "plt.legend()\n",
    "plt.show()\n"
   ]
  },
  {
   "cell_type": "code",
   "execution_count": null,
   "metadata": {},
   "outputs": [],
   "source": [
    "serie_hortalicas = df1['hortalicas'].dropna()\n",
    "\n",
    "modelo = SARIMAX(serie_hortalicas, \n",
    "                order=(1,1,0),\n",
    "                enforce_stationarity=False,\n",
    "                enforce_invertibility=False)\n",
    "resultado = modelo.fit(disp=False)\n",
    "\n",
    "previsao = resultado.get_forecast(steps=12)\n",
    "previsao_df = previsao.conf_int()\n",
    "previsao_df['previsao'] = previsao.predicted_mean.clip(lower=0)\n",
    "previsao_df.iloc[:,0] = previsao_df.iloc[:,0].clip(lower=0)\n",
    "\n",
    "plt.figure(figsize=(10,5))\n",
    "plt.plot(serie_hortalicas, label='Histórico')\n",
    "plt.plot(previsao_df['previsao'], color='red', label='Previsão')\n",
    "plt.fill_between(previsao_df.index,\n",
    "                previsao_df.iloc[:,0],\n",
    "                previsao_df.iloc[:,1],\n",
    "                color='red', alpha=0.1)\n",
    "plt.title('Previsão de Venda de Hortaliças')\n",
    "plt.legend()\n",
    "plt.show()\n"
   ]
  },
  {
   "cell_type": "code",
   "execution_count": null,
   "metadata": {},
   "outputs": [],
   "source": [
    "serie_doce_leite = df1['doce_leite'].dropna()\n",
    "\n",
    "modelo = SARIMAX(serie_doce_leite, \n",
    "                order=(1,1,0),\n",
    "                enforce_stationarity=False,\n",
    "                enforce_invertibility=False)\n",
    "resultado = modelo.fit(disp=False)\n",
    "\n",
    "previsao = resultado.get_forecast(steps=12)\n",
    "previsao_df = previsao.conf_int()\n",
    "previsao_df['previsao'] = previsao.predicted_mean.clip(lower=0)\n",
    "previsao_df.iloc[:,0] = previsao_df.iloc[:,0].clip(lower=0)\n",
    "\n",
    "plt.figure(figsize=(10,5))\n",
    "plt.plot(serie_doce_leite, label='Histórico')\n",
    "plt.plot(previsao_df['previsao'], color='red', label='Previsão')\n",
    "plt.fill_between(previsao_df.index,\n",
    "                previsao_df.iloc[:,0],\n",
    "                previsao_df.iloc[:,1],\n",
    "                color='red', alpha=0.1)\n",
    "plt.title('Previsão de Venda de Doce de Leite')\n",
    "plt.legend()\n",
    "plt.show()\n"
   ]
  }
 ],
 "metadata": {
  "kernelspec": {
   "display_name": "venv",
   "language": "python",
   "name": "python3"
  },
  "language_info": {
   "codemirror_mode": {
    "name": "ipython",
    "version": 3
   },
   "file_extension": ".py",
   "mimetype": "text/x-python",
   "name": "python",
   "nbconvert_exporter": "python",
   "pygments_lexer": "ipython3",
   "version": "3.13.3"
  }
 },
 "nbformat": 4,
 "nbformat_minor": 2
}
