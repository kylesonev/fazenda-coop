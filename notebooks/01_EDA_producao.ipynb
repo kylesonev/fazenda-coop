{
 "cells": [
  {
   "cell_type": "markdown",
   "metadata": {},
   "source": [
    "Análise Exploratória - Quantidade"
   ]
  },
  {
   "cell_type": "markdown",
   "metadata": {},
   "source": [
    "Importação das bibliotecas necessárias"
   ]
  },
  {
   "cell_type": "code",
   "execution_count": 21,
   "metadata": {},
   "outputs": [],
   "source": [
    "import pandas as pd\n",
    "import matplotlib.pyplot as plt\n",
    "import seaborn as sns\n",
    "from sklearn.preprocessing import StandardScaler\n",
    "from sklearn.cluster import KMeans\n",
    "from sklearn.model_selection import train_test_split\n",
    "from pmdarima import auto_arima\n"
   ]
  },
  {
   "cell_type": "code",
   "execution_count": 22,
   "metadata": {},
   "outputs": [],
   "source": [
    "df = pd.read_csv(\"../data/quantidade.csv\")"
   ]
  },
  {
   "cell_type": "code",
   "execution_count": null,
   "metadata": {},
   "outputs": [],
   "source": [
    "df.head()"
   ]
  },
  {
   "cell_type": "code",
   "execution_count": null,
   "metadata": {},
   "outputs": [],
   "source": [
    "plt.figure(figsize=(16,6))\n",
    "sns.lineplot(data=df, x='data', y='leite', marker='o', color= '#1199d4')\n",
    "plt.xticks(rotation=45)\n",
    "plt.title('Vendas - Leite')\n",
    "plt.xlabel('Mês')\n",
    "plt.ylabel('Litros de leite')\n",
    "plt.show()"
   ]
  },
  {
   "cell_type": "code",
   "execution_count": null,
   "metadata": {},
   "outputs": [],
   "source": [
    "plt.figure(figsize=(16,6))\n",
    "sns.lineplot(data=df, x='data', y='queijo', marker='o', color='#c9aa0c')\n",
    "plt.title('Vendas - Queijo')\n",
    "plt.xlabel('Mês')\n",
    "plt.xticks(rotation=45)\n",
    "plt.ylabel('Queijo')\n",
    "plt.show()"
   ]
  },
  {
   "cell_type": "code",
   "execution_count": null,
   "metadata": {},
   "outputs": [],
   "source": [
    "plt.figure(figsize=(16, 6))\n",
    "sns.lineplot(data=df, x='data', y='doce_leite', marker='o', color='#7d6a0c')\n",
    "plt.title('Vendas - Doce de Leite')\n",
    "plt.xlabel('Mês')\n",
    "plt.xticks(rotation=45)\n",
    "plt.ylabel('Potes')\n",
    "plt.show()"
   ]
  },
  {
   "cell_type": "code",
   "execution_count": null,
   "metadata": {},
   "outputs": [],
   "source": [
    "plt.figure(figsize=(16,6))\n",
    "sns.lineplot(data=df, x='data', y='ovos', marker='o', color='#d69a00')\n",
    "plt.title('Vendas - Ovos')\n",
    "plt.xlabel('Mês')\n",
    "plt.xticks(rotation=45)\n",
    "plt.ylabel('Cartelas')\n",
    "plt.show()"
   ]
  },
  {
   "cell_type": "code",
   "execution_count": null,
   "metadata": {},
   "outputs": [],
   "source": [
    "plt.figure(figsize=(16,6))\n",
    "sns.lineplot(data=df, x='data', y='suinos', marker='o', color='#d6006b')\n",
    "plt.title('Vendas - Suínos')\n",
    "plt.xlabel('Mês')\n",
    "plt.xticks(rotation=45)\n",
    "plt.ylabel('Porcos')\n",
    "plt.show()"
   ]
  },
  {
   "cell_type": "code",
   "execution_count": null,
   "metadata": {},
   "outputs": [],
   "source": [
    "plt.figure(figsize=(16,6))\n",
    "sns.lineplot(data=df, x='data', y='hortalicas', marker='o', color='#00c403')\n",
    "plt.title('Vendas - Hortaliças')\n",
    "plt.xlabel('Mês')\n",
    "plt.xticks(rotation=45)\n",
    "plt.ylabel('Mudas')\n",
    "plt.show()"
   ]
  },
  {
   "cell_type": "code",
   "execution_count": null,
   "metadata": {},
   "outputs": [],
   "source": [
    "colunas = ['leite', 'queijo', 'doce_leite', 'ovos', 'suinos', 'hortalicas']\n",
    "resumo_df = pd.DataFrame({\n",
    "    'Média': df[colunas].mean(),\n",
    "    'Mínimo': df[colunas].min(),\n",
    "    'Máximo': df[colunas].max(),\n",
    "    'Soma': df[colunas].sum()\n",
    "})\n",
    "\n",
    "resumo_df = resumo_df.round(2)\n",
    "resumo_df"
   ]
  },
  {
   "cell_type": "code",
   "execution_count": null,
   "metadata": {},
   "outputs": [],
   "source": [
    "scaler = StandardScaler()\n",
    "scaled_data = scaler.fit_transform(df[colunas])\n",
    "kmeans = KMeans(n_clusters=3, random_state=42)\n",
    "df['cluster'] = kmeans.fit_predict(scaled_data)\n",
    "\n",
    "fig, axes = plt.subplots(1, 2, figsize=(16,6))\n",
    "\n",
    "sns.scatterplot(data=df, x= 'leite', y='queijo', hue='cluster', palette='Set1', ax=axes[0])\n",
    "axes[0].set_title('Leite vs Queijo')\n",
    "axes[0].set_xlabel('Leite')\n",
    "axes[0].set_ylabel('Queijo')\n",
    "\n",
    "sns.scatterplot(data=df, x= 'leite', y='doce_leite', hue='cluster', palette='Set1', ax=axes[1])\n",
    "axes[1].set_title('Leite vs Doce de Leite')\n",
    "axes[1].set_xlabel('Leite')\n",
    "axes[1].set_ylabel('Doce de Leite')\n",
    "\n",
    "plt.tight_layout()\n",
    "plt.show()"
   ]
  },
  {
   "cell_type": "code",
   "execution_count": null,
   "metadata": {},
   "outputs": [],
   "source": [
    "plt.figure(figsize=(8,6))\n",
    "sns.heatmap(df[colunas].corr(), annot=True, cmap='coolwarm')\n",
    "plt.title('Correlação entre produtos')\n",
    "plt.show()"
   ]
  },
  {
   "cell_type": "code",
   "execution_count": null,
   "metadata": {},
   "outputs": [],
   "source": [
    "# Média de cada produto por cluster\n",
    "df.groupby('cluster')[colunas].mean().style.format(\"{:.2f}\")\n",
    " "
   ]
  },
  {
   "cell_type": "code",
   "execution_count": null,
   "metadata": {},
   "outputs": [],
   "source": [
    "df_melted = df.melt(id_vars='data', value_vars=colunas, var_name='produto', value_name='quantidade')\n",
    "sns.lineplot(data=df_melted, x='data', y='quantidade', hue='produto')\n"
   ]
  },
  {
   "cell_type": "code",
   "execution_count": 35,
   "metadata": {},
   "outputs": [],
   "source": [
    "X = df.drop(columns=['queijo', 'data'])\n",
    "y = df['queijo'] \n",
    "split_index = int(len(df) * 0.8)\n",
    "\n",
    "training_X = X.iloc[:split_index]\n",
    "test_X = X.iloc[split_index:]\n",
    "\n",
    "training_y = y.iloc[:split_index]\n",
    "test_y = y.iloc[split_index:]\n"
   ]
  },
  {
   "cell_type": "code",
   "execution_count": 36,
   "metadata": {},
   "outputs": [],
   "source": [
    "# X = df.drop(columns=['queijo', 'data'])\n",
    "# y = df['queijo'] \n",
    "# training_X, test_X, training_y, test_y = train_test_split(X, y, test_size=0.2, random_state=42)"
   ]
  },
  {
   "cell_type": "code",
   "execution_count": null,
   "metadata": {},
   "outputs": [],
   "source": [
    "model = auto_arima(y=training_y,\n",
    "                   X=training_X,\n",
    "                   m=12)\n",
    "\n",
    "n_periods = len(test_y)\n",
    "forecast = model.predict(n_periods=n_periods, X=test_X)\n",
    "\n",
    "forecast"
   ]
  },
  {
   "cell_type": "code",
   "execution_count": null,
   "metadata": {},
   "outputs": [],
   "source": [
    "training_y.plot(figsize=(16, 6), legend=True)\n",
    "test_y.plot(legend=True)\n",
    "forecast.plot()"
   ]
  },
  {
   "cell_type": "code",
   "execution_count": 44,
   "metadata": {},
   "outputs": [],
   "source": [
    "X = df.drop(columns=['leite', 'data'])\n",
    "y = df['leite']\n",
    "\n",
    "divisor_index = int(len(df) * 0.8)\n",
    "\n",
    "training_y = y.iloc[:divisor_index]\n",
    "test_y = y.iloc[divisor_index:]\n",
    "\n",
    "training_X = X.iloc[:divisor_index]\n",
    "test_X = X.iloc[divisor_index:]\n"
   ]
  },
  {
   "cell_type": "code",
   "execution_count": null,
   "metadata": {},
   "outputs": [],
   "source": [
    "model = auto_arima(y = training_y,\n",
    "                   exogerous = training_X,\n",
    "                   m = 12)\n",
    "\n",
    "forecast = model.predict(n_periods=n_periods, X=test_X)\n",
    "\n",
    "forecast"
   ]
  },
  {
   "cell_type": "code",
   "execution_count": null,
   "metadata": {},
   "outputs": [],
   "source": [
    "training_y.plot(figsize=(16,6), label = 'Treino')\n",
    "test_y.plot(label = 'Teste')\n",
    "forecast.plot(label = 'Previsão')\n",
    "plt.legend()\n",
    "plt.show()\n"
   ]
  }
 ],
 "metadata": {
  "kernelspec": {
   "display_name": "venv",
   "language": "python",
   "name": "python3"
  },
  "language_info": {
   "codemirror_mode": {
    "name": "ipython",
    "version": 3
   },
   "file_extension": ".py",
   "mimetype": "text/x-python",
   "name": "python",
   "nbconvert_exporter": "python",
   "pygments_lexer": "ipython3",
   "version": "3.13.3"
  }
 },
 "nbformat": 4,
 "nbformat_minor": 2
}
