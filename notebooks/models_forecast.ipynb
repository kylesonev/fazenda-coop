{
 "cells": [
  {
   "cell_type": "code",
   "execution_count": 1,
   "metadata": {},
   "outputs": [],
   "source": [
    "import sys\n",
    "import os\n",
    "import pandas as pd\n",
    "import matplotlib.pyplot as plt\n",
    "sys.path.append(os.path.abspath(\"..\"))  \n",
    "from src.models import training_prophet, forecasting_prophet, training_auto_arima\n",
    "from src.preprocessing import spliting_train_test, preparing_prophet, preparing_arima"
   ]
  },
  {
   "cell_type": "code",
   "execution_count": 2,
   "metadata": {},
   "outputs": [],
   "source": [
    "df = pd.read_csv(\"../data/production_volume.csv\")"
   ]
  },
  {
   "cell_type": "code",
   "execution_count": null,
   "metadata": {},
   "outputs": [],
   "source": [
    "target = \"milk\"\n",
    "train, test = spliting_train_test(df, date_column=\"date\")"
   ]
  },
  {
   "cell_type": "code",
   "execution_count": null,
   "metadata": {},
   "outputs": [],
   "source": [
    "df_prophet = preparing_prophet(df=df, target=target)\n",
    "model_prophet = training_prophet(df_prophet=df_prophet)\n",
    "forecast_prophet = forecasting_prophet(model=model_prophet)\n",
    "print(forecast_prophet[['ds', 'yhat']].tail(12)) "
   ]
  },
  {
   "cell_type": "code",
   "execution_count": null,
   "metadata": {},
   "outputs": [],
   "source": [
    "model_prophet.plot(forecast_prophet)\n",
    "plt.title('Prophet - Milk Revenue')\n",
    "plt.grid(True)\n",
    "plt.show()\n",
    "\n",
    "model_prophet.plot_components(forecast_prophet)\n",
    "plt.tight_layout()\n",
    "plt.show()"
   ]
  },
  {
   "cell_type": "code",
   "execution_count": null,
   "metadata": {},
   "outputs": [],
   "source": [
    "X_train, y_train = preparing_arima(train, target)\n",
    "X_test, y_test = preparing_arima(test, target)\n",
    "model_arima = training_auto_arima(y_train, X_train)\n",
    "y_pred_arima = model_arima.predict(n_periods=len(X_test), exogenous=X_test)"
   ]
  },
  {
   "cell_type": "code",
   "execution_count": null,
   "metadata": {},
   "outputs": [],
   "source": [
    "plt.figure(figsize=(12, 6))\n",
    "plt.plot(y_train, label=\"Train\")\n",
    "plt.plot(y_test, label=\"Test\")\n",
    "plt.plot(y_pred_arima, label=\"Forecast\", linestyle=\"--\")\n",
    "plt.legend()\n",
    "plt.title(\"Milk - Auto ARIMA\")\n",
    "plt.grid(True)\n",
    "plt.show()"
   ]
  }
 ],
 "metadata": {
  "kernelspec": {
   "display_name": "venv",
   "language": "python",
   "name": "python3"
  },
  "language_info": {
   "codemirror_mode": {
    "name": "ipython",
    "version": 3
   },
   "file_extension": ".py",
   "mimetype": "text/x-python",
   "name": "python",
   "nbconvert_exporter": "python",
   "pygments_lexer": "ipython3",
   "version": "3.13.3"
  }
 },
 "nbformat": 4,
 "nbformat_minor": 2
}
