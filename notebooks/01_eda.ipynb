{
 "cells": [
  {
   "cell_type": "markdown",
   "metadata": {},
   "source": [
    "Análise Exploratória - Quantidade"
   ]
  },
  {
   "cell_type": "markdown",
   "metadata": {},
   "source": [
    "Importação das bibliotecas necessárias"
   ]
  },
  {
   "cell_type": "code",
   "execution_count": 19,
   "metadata": {},
   "outputs": [],
   "source": [
    "import pandas as pd\n",
    "import matplotlib.pyplot as plt\n",
    "import seaborn as sns\n",
    "from statsmodels.tsa.seasonal import seasonal_decompose\n"
   ]
  },
  {
   "cell_type": "code",
   "execution_count": 20,
   "metadata": {},
   "outputs": [],
   "source": [
    "df_revenue = pd.read_csv(\"../data/production_revenue.csv\")\n",
    "df_volume = pd.read_csv(\"../data/production_volume.csv\")\n",
    "df_volume[\"date\"] = pd.to_datetime(df_volume[\"date\"], format=\"%b-%Y\")\n",
    "df_revenue[\"date\"] = pd.to_datetime(df_revenue[\"date\"], format=\"%b-%Y\")\n",
    "\n",
    "df = pd.merge(df_volume, df_revenue, on=\"date\")\n",
    "df['season'] = df['date'].dt.month.map({\n",
    "    1: 'Summer', 2: 'Summer', 3: 'Summer',\n",
    "    4: 'Fall', 5: 'Fall', 6: 'Fall',\n",
    "    7: 'Winter', 8: 'Winter', 9: 'Winter',\n",
    "    10: 'Spring', 11: 'Spring', 12: 'Spring'\n",
    "})"
   ]
  },
  {
   "cell_type": "code",
   "execution_count": null,
   "metadata": {},
   "outputs": [],
   "source": [
    "display(df.head(3))\n",
    "print(f\"\\n🔍 Dimensões: {df.shape}\")\n",
    "print(f\"📅 Período: {df['date'].min()} a {df['date'].max()}\")"
   ]
  },
  {
   "cell_type": "code",
   "execution_count": 22,
   "metadata": {},
   "outputs": [],
   "source": [
    "# products = ['cheese', 'milk', 'eggs', 'milk', 'porks', 'vegetables']\n",
    "# fig, axes = plt.subplots(len(products), 1, figsize=(14, 10))\n",
    "\n",
    "# for ax, products in zip(axes, products):\n",
    "#     sns.lineplot(data=df, x='date', y=f'{products}', ax=ax, color='royalblue')\n",
    "#     ax.set_title(f'Produção de {products} (2020-2024)', fontsize=12)\n",
    "#     ax.set_ylabel('Quantidade')\n",
    "# plt.tight_layout()"
   ]
  },
  {
   "cell_type": "code",
   "execution_count": 23,
   "metadata": {},
   "outputs": [],
   "source": [
    "def make_graphic(data: pd.DataFrame, y:str, title:str) -> None:\n",
    "    plt.figure(figsize=(16,6))\n",
    "    sns.lineplot(data=data, x=\"date\", y=y, marker=\"o\")\n",
    "    plt.xticks(rotation=45)\n",
    "    plt.title(title)\n",
    "    plt.xlabel(\"Year\")\n",
    "    plt.ylabel(\"Units\")"
   ]
  },
  {
   "cell_type": "code",
   "execution_count": null,
   "metadata": {},
   "outputs": [],
   "source": [
    "make_graphic(data=df, y=\"cheese\", title=\"Cheese Volume\")\n",
    "make_graphic(data=df, y=\"milk\", title=\"Milk Volume\")\n",
    "make_graphic(data=df, y=\"dulce_leche\", title=\"Dulce de Leche Volume\")\n",
    "make_graphic(data=df, y=\"eggs\", title=\"Eggs Volume\")\n",
    "make_graphic(data=df, y=\"porks\", title=\"Porks Volume\")\n",
    "make_graphic(data=df, y=\"vegetables\", title=\"Vegetables Volume\")"
   ]
  },
  {
   "cell_type": "code",
   "execution_count": null,
   "metadata": {},
   "outputs": [],
   "source": [
    "cols_corr = [\"cheese\", \"milk\", \"dulce_leche\", \"eggs\", \"porks\", \"vegetables\"]\n",
    "sns.heatmap(df[cols_corr].corr(), annot=True, cmap='coolwarm', center=0)\n",
    "plt.title('Products Correlation', pad=20)\n"
   ]
  },
  {
   "cell_type": "code",
   "execution_count": null,
   "metadata": {},
   "outputs": [],
   "source": [
    "plt.figure(figsize=(16,10))\n",
    "sns.boxplot(data=df[[\"cheese\", \"milk\", \"dulce_leche\", \"eggs\", \"porks\", \"vegetables\"]], palette=\"Set1\")\n",
    "plt.title('Distribuição da Produção', pad=15)\n",
    "plt.ylabel('Quantidade')"
   ]
  },
  {
   "cell_type": "code",
   "execution_count": 27,
   "metadata": {},
   "outputs": [],
   "source": [
    "def cheking_outliers(df: pd.DataFrame, column: str, print_details=True, return_outliers=False):\n",
    "    Q1 = df[column].quantile(0.25)  \n",
    "    Q3 = df[column].quantile(0.75)  \n",
    "    IQR = Q3 - Q1                       \n",
    "    lower_bound = Q1 - 1.5 * IQR\n",
    "    upper_bound = Q3 + 1.5 * IQR\n",
    "\n",
    "    # Identificação dos outliers\n",
    "    outliers_mask = (df[column] < lower_bound) | (df[column] > upper_bound)\n",
    "    outliers_df = df[outliers_mask].copy()\n",
    "\n",
    "    if print_details:\n",
    "        print(f\"\\nOutlier Analysis - Column: '{column}'\")\n",
    "        print(f\"• 1st Quartile (Q1): {Q1:.2f}\")\n",
    "        print(f\"• 3rd Quartile (Q3): {Q3:.2f}\")\n",
    "        print(f\"• IQR: {IQR:.2f}\")\n",
    "        print(f\"• Lower Bound: {lower_bound:.2f}\")\n",
    "        print(f\"• Upper Bound: {upper_bound:.2f}\")\n",
    "        print(f\"• Outliers Detected: {len(outliers_df)}\")\n",
    "        \n",
    "        if not outliers_df.empty:\n",
    "            print(\"\\nOutliers Statistics:\")\n",
    "            display(outliers_df[[column]].describe().T)\n",
    "            \n",
    "        if print_details and not outliers_df.empty:\n",
    "            plt.figure(figsize=(8, 4))\n",
    "            sns.boxplot(x=df[column], color='skyblue')\n",
    "            plt.title(f'Distribution of {column} with Outliers')\n",
    "            plt.show()\n",
    "    return outliers_df if return_outliers else None "
   ]
  },
  {
   "cell_type": "code",
   "execution_count": null,
   "metadata": {},
   "outputs": [],
   "source": [
    "cheking_outliers(df=df, column=\"cheese\")"
   ]
  },
  {
   "cell_type": "code",
   "execution_count": null,
   "metadata": {},
   "outputs": [],
   "source": [
    "\n",
    "fig, ax = plt.subplots(figsize=(14, 6))\n",
    "df.groupby([df['date'].dt.year, df['date'].dt.month])['cheese'].mean().unstack().plot(\n",
    "    ax=ax, cmap='viridis', marker='o'\n",
    ")\n",
    "ax.set_title('Cheese Production: Annual Trend & Monthly Seasonality', pad=20)\n",
    "ax.set_xlabel('Year')\n",
    "plt.legend(title='Month');"
   ]
  },
  {
   "cell_type": "code",
   "execution_count": null,
   "metadata": {},
   "outputs": [],
   "source": [
    "# Decomposição aditiva (produção de leite)\n",
    "result = seasonal_decompose(df.set_index('date')['milk'], model='additive', period=12)\n",
    "result.plot();"
   ]
  },
  {
   "cell_type": "code",
   "execution_count": null,
   "metadata": {},
   "outputs": [],
   "source": [
    "pivot = df.pivot_table(index=df['date'].dt.month, \n",
    "                      columns=df['date'].dt.year, \n",
    "                      values='milk')\n",
    "\n",
    "plt.figure(figsize=(12, 6))\n",
    "sns.heatmap(pivot, annot=True, fmt=\".0f\", cmap=\"YlGnBu\", linewidths=.5)\n",
    "plt.title('Milk Production: Monthly Patterns by Year');"
   ]
  },
  {
   "cell_type": "code",
   "execution_count": 32,
   "metadata": {},
   "outputs": [],
   "source": [
    "def make_graphic_kde_season_grid(df: pd.DataFrame, products: list[str]):\n",
    "    fig, axes = plt.subplots(nrows=2, ncols=3, figsize=(18, 10)) \n",
    "    axes = axes.flatten()  \n",
    "\n",
    "    for i, product in enumerate(products):\n",
    "        ax = axes[i]\n",
    "        sns.kdeplot(data=df, x=product, hue=\"season\", fill=True, linewidth=1.5, ax=ax)\n",
    "        ax.set_title(f\"{product.capitalize()} over Seasons\")\n",
    "\n",
    "    for j in range(len(products), 6):\n",
    "        fig.delaxes(axes[j])\n",
    "\n",
    "    plt.tight_layout()\n",
    "    plt.show()"
   ]
  },
  {
   "cell_type": "code",
   "execution_count": null,
   "metadata": {},
   "outputs": [],
   "source": [
    "products = [\"cheese\", \"milk\", \"eggs\", \"porks\", \"vegetables\", \"dulce_leche\"]\n",
    "make_graphic_kde_season_grid(df, products)"
   ]
  },
  {
   "cell_type": "code",
   "execution_count": null,
   "metadata": {},
   "outputs": [],
   "source": [
    "df['year'] = df['date'].dt.year\n",
    "receita_anual = df.groupby('year')[['cheese', 'milk', 'eggs']].sum()\n",
    "receita_anual.plot.pie(subplots=True, figsize=(18, 4), autopct='%.1f%%', legend=False);"
   ]
  },
  {
   "cell_type": "code",
   "execution_count": null,
   "metadata": {},
   "outputs": [],
   "source": [
    "# Tabela resumo com crescimento anual\n",
    "summary = df.groupby(df['date'].dt.year).agg({\n",
    "    'cheese': ['mean', lambda x: f\"{(x.pct_change().mean()*100):.1f}%\"],\n",
    "    'milk': ['sum', 'max']\n",
    "})\n",
    "display(summary.style.background_gradient(cmap='Blues'))"
   ]
  },
  {
   "cell_type": "code",
   "execution_count": 39,
   "metadata": {},
   "outputs": [],
   "source": [
    "df.to_parquet('../data/processed/production_clean.parquet')"
   ]
  }
 ],
 "metadata": {
  "kernelspec": {
   "display_name": "venv",
   "language": "python",
   "name": "python3"
  },
  "language_info": {
   "codemirror_mode": {
    "name": "ipython",
    "version": 3
   },
   "file_extension": ".py",
   "mimetype": "text/x-python",
   "name": "python",
   "nbconvert_exporter": "python",
   "pygments_lexer": "ipython3",
   "version": "3.13.3"
  }
 },
 "nbformat": 4,
 "nbformat_minor": 2
}
